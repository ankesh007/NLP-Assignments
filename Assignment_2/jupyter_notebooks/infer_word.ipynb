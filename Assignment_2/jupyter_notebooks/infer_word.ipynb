{
 "cells": [
  {
   "cell_type": "code",
   "execution_count": 39,
   "metadata": {},
   "outputs": [],
   "source": [
    "import gensim\n",
    "import pickle\n",
    "from nltk.stem import WordNetLemmatizer\n",
    "import json\n",
    "import re\n",
    "from nltk.tokenize import word_tokenize\n",
    "from nltk.sentiment.util import mark_negation\n",
    "import nltk\n",
    "import os\n",
    "import utils\n",
    "from random import shuffle\n",
    "import time"
   ]
  },
  {
   "cell_type": "markdown",
   "metadata": {},
   "source": [
    "## Constants"
   ]
  },
  {
   "cell_type": "code",
   "execution_count": 2,
   "metadata": {
    "collapsed": true
   },
   "outputs": [],
   "source": [
    "eval_data_file='data/eval_data.txt'\n",
    "eval_words_file='data/eval_data.txt.td'\n",
    "lemmatizer=WordNetLemmatizer()\n"
   ]
  },
  {
   "cell_type": "markdown",
   "metadata": {},
   "source": [
    "## Read Data"
   ]
  },
  {
   "cell_type": "code",
   "execution_count": 3,
   "metadata": {},
   "outputs": [
    {
     "name": "stdout",
     "output_type": "stream",
     "text": [
      "21918\n"
     ]
    }
   ],
   "source": [
    "reader=open(eval_words_file,'r')\n",
    "eval_words_list=[]\n",
    "for line in reader:\n",
    "    tok_line=line.strip().split(\" \")\n",
    "    x=len(tok_line)\n",
    "    for i in range(x):\n",
    "        tok_line[i]=tok_line[i].split(\":\")[-1]\n",
    "    eval_words_list.append(tok_line)\n",
    "print(len(eval_words_list))\n",
    "reader.close()"
   ]
  },
  {
   "cell_type": "code",
   "execution_count": 4,
   "metadata": {
    "scrolled": true
   },
   "outputs": [
    {
     "name": "stdout",
     "output_type": "stream",
     "text": [
      "43836 21918\n",
      "['the', 'particulars', 'of', 'your', 'plans', 'i', 'neither'] know\n",
      "['or', 'seek', 'to', 'know'] know\n"
     ]
    }
   ],
   "source": [
    "reader=open(eval_data_file,'r')\n",
    "context_list=[]\n",
    "y=[]\n",
    "\n",
    "for line in reader:\n",
    "    tok_line=line.strip().split(\"<<target>>\")\n",
    "    context=gensim.utils.simple_preprocess(tok_line[0],min_len=1)\n",
    "    x=len(context)\n",
    "    \n",
    "    y.append(tok_line[1].split(\":\")[-1])\n",
    "    context2=gensim.utils.simple_preprocess(tok_line[1])\n",
    "\n",
    "    if len(context2)>0:\n",
    "        context2.pop()\n",
    "    \n",
    "    context_list.append(context)\n",
    "    context_list.append(context2)\n",
    "print(len(context_list),len(y))\n",
    "print(context_list[0],y[0])\n",
    "print(context_list[1],y[0])"
   ]
  },
  {
   "cell_type": "code",
   "execution_count": null,
   "metadata": {
    "collapsed": true
   },
   "outputs": [],
   "source": []
  },
  {
   "cell_type": "code",
   "execution_count": 191,
   "metadata": {},
   "outputs": [
    {
     "name": "stdout",
     "output_type": "stream",
     "text": [
      "10000\n",
      "20000\n",
      "10000\n",
      "20000\n",
      "30000\n",
      "40000\n"
     ]
    }
   ],
   "source": [
    "eval_words_list=utils.lemmatize(eval_words_list)\n",
    "context_list=utils.lemmatize(context_list)\n",
    "y=utils.lemmatize_1d(y)"
   ]
  },
  {
   "cell_type": "markdown",
   "metadata": {},
   "source": [
    "## Load Model"
   ]
  },
  {
   "cell_type": "code",
   "execution_count": 5,
   "metadata": {
    "collapsed": true
   },
   "outputs": [],
   "source": [
    "def write_file(arr,file):\n",
    "    with open(file,'w') as f:\n",
    "        for line in arr:\n",
    "            st=\" \".join([str(x) for x in line])\n",
    "            print(st,file=f)\n",
    "    f.close()"
   ]
  },
  {
   "cell_type": "code",
   "execution_count": 46,
   "metadata": {
    "collapsed": true
   },
   "outputs": [],
   "source": [
    "def func(func,save_path,flag=False,hits=2000,context_win=2,upto=2000):\n",
    "\n",
    "    mrr=0\n",
    "    mr=0\n",
    "    ranking=[]\n",
    "\n",
    "    if flag==True:\n",
    "        upto=len(eval_words_list)\n",
    "\n",
    "    for i in range(upto):\n",
    "        if i%100==0:\n",
    "            print(mrr/(i+1),mr*1.0/(i+1),i)\n",
    "        context1=context_list[2*i]\n",
    "        context2=context_list[2*i+1]\n",
    "        x1=len(context1)\n",
    "        x2=len(context2)\n",
    "        if x1>context_win:\n",
    "            context1=context1[x1-context_win:x1]\n",
    "        if x2>context_win:\n",
    "            context2=context2[0:context_win]\n",
    "        \n",
    "        context=context1+context2\n",
    "        word=y[i]\n",
    "        val=func(context,topn=hits)\n",
    "        local_rank=[]\n",
    "        mapper={}\n",
    "        mapper_count={}\n",
    "        for w in eval_words_list[i]:\n",
    "            mapper[w]=0\n",
    "            if w not in mapper_count:\n",
    "                mapper_count[w]=0\n",
    "            mapper_count[w]+=1\n",
    "\n",
    "        count=1\n",
    "        if val is not None:\n",
    "            for j in range(len(val)):\n",
    "                if val[j][0] in mapper:\n",
    "                    mapper[val[j][0]]=count\n",
    "                    count+=mapper_count[val[j][0]]\n",
    "\n",
    "        temp=[]\n",
    "        for w in eval_words_list[i]:\n",
    "            if mapper[w]==0:\n",
    "                temp.append(w)\n",
    "        shuffle(temp)\n",
    "        \n",
    "        for w in temp:\n",
    "            if mapper[w]==0:\n",
    "                mapper[w]=count\n",
    "                count+=mapper_count[w]\n",
    "\n",
    "        for w in eval_words_list[i]:\n",
    "            local_rank.append(mapper[w])\n",
    "            mapper[w]+=1\n",
    "        ranking.append(local_rank)\n",
    "\n",
    "        if word not in mapper:\n",
    "            print (word)\n",
    "            print (eval_words_list[i])\n",
    "            print (mapper)\n",
    "        \n",
    "        mr+=(mapper[word]-1)\n",
    "        mrr+=1.0/(mapper[word]-1)\n",
    "    write_file(ranking,save_path)\n",
    "    return ranking"
   ]
  },
  {
   "cell_type": "code",
   "execution_count": 47,
   "metadata": {},
   "outputs": [],
   "source": [
    "def run_eval(path,output,flag=False,hits=2000,context_win=1):\n",
    "    model_path=path\n",
    "    model=utils.load_pickle(model_path)\n",
    "    x=time.time()\n",
    "    \n",
    "    t=func(model.predict_output_word,output,flag=flag,hits=hits,context_win=context_win)\n",
    "    print(time.time()-x)\n",
    "    return t"
   ]
  },
  {
   "cell_type": "code",
   "execution_count": 48,
   "metadata": {
    "collapsed": true
   },
   "outputs": [],
   "source": [
    "def getC(w1,w2,ds):\n",
    "    key=w1+\"_\"+w2\n",
    "    if key in ds:\n",
    "        return ds[key]\n",
    "    return 0\n",
    "    \n",
    "def counter(ds,word,context,begin):\n",
    "    x=len(context)\n",
    "    count=0.0\n",
    "    wt=1.0\n",
    "\n",
    "    if begin==1:\n",
    "        for i in range(min(x,2)):\n",
    "            count+=getC(word,context[i],ds)*wt\n",
    "            wt/=2\n",
    "    else:\n",
    "        for i in range(x-1,max(0,x-3),-1):\n",
    "            count+=getC(word,context[i],ds)*wt\n",
    "            wt/=2\n",
    "    return count\n",
    "\n",
    "def rerank(rank_list,context_list,eval_words_list,rr=30):\n",
    "    le=len(rank_list)\n",
    "    aux_ds=utils.load_pickle(filename=\"aux_ds.pkl\")\n",
    "    for i in range(le):\n",
    "        imp_words=[]\n",
    "        lee=len(rank_list[i])\n",
    "        for j in range(lee):\n",
    "            if rank_list[i][j]<rr:\n",
    "                imp_words.append((eval_words_list[i][j],rank_list[i][j],j))\n",
    "        new_lis=[]\n",
    "        for w in imp_words:\n",
    "            word=w[0]\n",
    "            rank=w[1]\n",
    "            pos=w[2]\n",
    "            count=0\n",
    "            count+=counter(aux_ds,word,context_list[2*i],0)\n",
    "            count+=counter(aux_ds,word,context_list[2*i+1],1)\n",
    "            new_lis.append((count,-rank,pos))\n",
    "#         print(new_lis)\n",
    "        new_lis=sorted(new_lis,reverse=True)\n",
    "#         print(new_lis)\n",
    "        c=0\n",
    "        for entry in new_lis:\n",
    "            c+=1\n",
    "            pos=entry[2]\n",
    "            rank_list[i][pos]=c\n",
    "    write_file(arr=rank_list,file=\"rerank.txt\")\n",
    "            "
   ]
  },
  {
   "cell_type": "code",
   "execution_count": 49,
   "metadata": {
    "collapsed": true
   },
   "outputs": [],
   "source": [
    "def pt(t):\n",
    "    for i in range(5):\n",
    "        print(context_list[2*i],context_list[2*i+1],y[i])\n",
    "        temp=list(zip(t[i],eval_words_list[i]))\n",
    "        print(sorted(temp)[0:20])\n",
    "        print()"
   ]
  },
  {
   "cell_type": "code",
   "execution_count": 50,
   "metadata": {
    "scrolled": true
   },
   "outputs": [],
   "source": [
    "# model_path='./sg_emb150_ep10.pkl'\n",
    "# out=run_eval(model_path,'out.txt',flag=False,hits=2000,context_win=1)\n",
    "# pt(out)"
   ]
  },
  {
   "cell_type": "code",
   "execution_count": 51,
   "metadata": {
    "scrolled": true
   },
   "outputs": [],
   "source": [
    "# model_path='./sg_emb150_ep10.pkl'\n",
    "# out=run_eval(model_path,'out.txt',flag=False,hits=2000,context_win=2)\n",
    "# pt(out)"
   ]
  },
  {
   "cell_type": "code",
   "execution_count": 54,
   "metadata": {
    "scrolled": true
   },
   "outputs": [
    {
     "name": "stdout",
     "output_type": "stream",
     "text": [
      "0.0 0.0 0\n",
      "0.2893625043913157 28.178217821782177 100\n",
      "0.2570734279060892 31.3681592039801 200\n",
      "0.24575175102608496 33.42857142857143 300\n",
      "0.23649064294920444 34.66334164588529 400\n",
      "0.22798413002480464 35.76646706586826 500\n",
      "0.23281548155980353 35.10316139767055 600\n",
      "0.2321034834367869 34.35805991440799 700\n",
      "0.2314730952981474 34.9250936329588 800\n",
      "0.23645934318669148 33.983351831298556 900\n",
      "0.23567005498937463 33.952047952047955 1000\n",
      "0.23605105236297533 34.055404178019984 1100\n",
      "0.24114337646201853 33.34221482098251 1200\n",
      "0.24596899546720666 33.21137586471944 1300\n"
     ]
    },
    {
     "name": "stderr",
     "output_type": "stream",
     "text": [
      "/home/cse/btech/cs1150210/anaconda3/lib/python3.6/site-packages/gensim/models/word2vec.py:859: UserWarning: All the input context words are out-of-vocabulary for the current model.\n",
      "  warnings.warn(\"All the input context words are out-of-vocabulary for the current model.\")\n"
     ]
    },
    {
     "name": "stdout",
     "output_type": "stream",
     "text": [
      "0.24394060750067473 33.50535331905782 1400\n",
      "0.2465289249063171 33.32644903397735 1500\n",
      "0.24631599152540792 32.74640849469082 1600\n",
      "0.248062029914419 32.37683715461493 1700\n",
      "0.248349113693676 32.13659078289839 1800\n",
      "0.2489570046751847 31.968437664387164 1900\n",
      "0.25131121418166985 31.71864067966017 2000\n",
      "0.25081759334523934 31.53069966682532 2100\n",
      "0.2495029373357731 31.825533848250796 2200\n",
      "0.25297854479351445 31.38200782268579 2300\n",
      "0.2527052173850014 31.369012911286962 2400\n",
      "0.25612493906092426 31.12794882047181 2500\n",
      "0.25616470955922266 31.27258746635909 2600\n",
      "0.25399851106022103 31.360236949278047 2700\n",
      "0.25157947672290143 31.63977151017494 2800\n",
      "0.2500784740248328 31.9617373319545 2900\n",
      "0.24836564972169697 31.899366877707433 3000\n",
      "0.247069635233168 32.247017091260886 3100\n",
      "0.24742564702412356 32.223992502343016 3200\n",
      "0.24766151666182457 31.97425022720388 3300\n",
      "0.2498996948968053 31.81417230226404 3400\n",
      "0.24968043600605705 31.72693516138246 3500\n",
      "0.2489214366277218 31.8014440433213 3600\n",
      "0.24941252023613253 31.78087003512564 3700\n",
      "0.24988925710553705 31.777163904235728 3800\n",
      "0.2503506176437826 31.618815688285054 3900\n",
      "0.25044950272307914 31.476380904773805 4000\n",
      "0.250979972878964 31.312362838332113 4100\n",
      "0.25006987659944396 31.2492263746727 4200\n",
      "0.2497859182888071 31.19065333643339 4300\n",
      "0.24958525537720425 31.09543285616905 4400\n",
      "0.24912662975073513 31.148189291268608 4500\n",
      "0.24921954900981086 31.242773310149968 4600\n",
      "0.25089748955579105 31.18038715166986 4700\n",
      "0.25024631933400276 31.198708602374506 4800\n",
      "0.251355945027755 30.998979800040807 4900\n",
      "0.24999570844485944 30.929414117176563 5000\n",
      "0.2520801722824014 30.88845324446187 5100\n",
      "0.25318993870635864 30.841184387617766 5200\n",
      "0.2541078998004902 30.795698924731184 5300\n",
      "0.25626579475404765 30.590261062766153 5400\n",
      "0.25704337344541717 30.492274131976004 5500\n",
      "0.25713906135167397 30.437064809855382 5600\n",
      "0.25712793560204295 30.48447640764778 5700\n",
      "0.25761228850967544 30.56835028443372 5800\n",
      "0.2581995868641685 30.62192848669717 5900\n",
      "0.25852800901763 30.52241293117814 6000\n",
      "0.25885338764436394 30.433371578429767 6100\n",
      "0.2588262680667143 30.524592807611675 6200\n",
      "0.2585087672014002 30.686240279320742 6300\n",
      "0.2591513690737777 30.693016716138104 6400\n",
      "0.25926014342000264 30.588678664820797 6500\n",
      "0.25886787465140587 30.68519921224057 6600\n",
      "0.2598559507887687 30.578570362632444 6700\n",
      "0.25980777973467967 30.58241435083076 6800\n",
      "0.2611402645448003 30.398637878568323 6900\n",
      "0.2614953522895366 30.19811455506356 7000\n",
      "0.2621248542035188 30.04900718208703 7100\n",
      "0.2621141187221515 30.018053048187753 7200\n",
      "0.2630027144834047 29.927955074647308 7300\n",
      "0.26338485214970925 29.8261045804621 7400\n",
      "0.26452794681744324 29.711905079322758 7500\n",
      "0.2654283411036872 29.6484673069333 7600\n",
      "0.26543576828466203 29.669783145046097 7700\n",
      "0.2660451015918344 29.59966670939623 7800\n",
      "0.2662156592844153 29.554613340083534 7900\n",
      "0.2668799378315699 29.497437820272467 8000\n",
      "0.26657360357421916 29.471793605727687 8100\n",
      "0.26706033969802745 29.400804779904888 8200\n",
      "0.2674439494337383 29.307071437176244 8300\n",
      "0.2672533211095514 29.336269491727176 8400\n",
      "0.2685035020646513 29.233972473826608 8500\n",
      "0.26914361516602653 29.193814672712474 8600\n",
      "0.26973070658876963 29.105964831628548 8700\n",
      "0.27032472753973985 29.010907851380527 8800\n",
      "0.2699790246935553 29.043590607796876 8900\n",
      "0.2701937157851669 29.117986890345517 9000\n",
      "0.2701422063779227 29.077683771014176 9100\n",
      "0.2695144234279673 29.108683838713183 9200\n",
      "0.26950944492669215 29.15030641866466 9300\n",
      "0.26998164005289 29.09881927454526 9400\n",
      "0.26959977969654597 29.164824755288915 9500\n",
      "0.26967729125989576 29.117383605874387 9600\n",
      "0.269397366977498 29.129368106380785 9700\n",
      "0.2692661044021442 29.06468727680849 9800\n",
      "0.2700958287250844 28.95061104938895 9900\n",
      "0.2697013530071019 28.978502149785022 10000\n",
      "0.26977134421091375 28.98990198990199 10100\n",
      "0.2701888322222059 28.88657974708362 10200\n",
      "0.2709760702887037 28.79613629744685 10300\n",
      "0.2711770538622271 28.73771752716085 10400\n",
      "0.2715921413342784 28.70698028759166 10500\n",
      "0.27148541201654774 28.651542307329496 10600\n",
      "0.2714128142395399 28.62489486963835 10700\n",
      "0.2719915019161293 28.53152485880937 10800\n",
      "0.27250990690334315 28.457664434455555 10900\n",
      "0.2727744118396374 28.402872466139442 11000\n",
      "0.2723525025419125 28.332762814160887 11100\n",
      "0.27248925525604306 28.312829211677528 11200\n",
      "0.2726243583888356 28.25440226528626 11300\n",
      "0.27300104528878344 28.226032804139987 11400\n",
      "0.2729753770375783 28.216155116946354 11500\n",
      "0.27271393151203654 28.169468149297476 11600\n",
      "0.27275566247248717 28.164088539441074 11700\n",
      "0.27379069561921227 28.05830014405559 11800\n",
      "0.27373098934023293 28.026132257793464 11900\n",
      "0.2738693622171371 27.933172235647028 12000\n",
      "0.2738612274861098 27.96430047103545 12100\n",
      "0.27457641688798845 27.87787886238833 12200\n",
      "0.27510566470467185 27.79765872693277 12300\n",
      "0.2751167596832364 27.80759616159987 12400\n",
      "0.2753417923027361 27.764258859291257 12500\n",
      "0.2756788776989434 27.704626616935165 12600\n",
      "0.2759611955371029 27.686402645460987 12700\n",
      "0.2758209714649137 27.687290055464416 12800\n",
      "0.275957896063115 27.64646151461127 12900\n",
      "0.27580775104214666 27.63341281439889 13000\n",
      "0.2757799916556867 27.564842378444393 13100\n",
      "0.2754445158279365 27.595333686841904 13200\n",
      "0.2758722052615575 27.546650627772348 13300\n",
      "0.27575977244831285 27.538616521155138 13400\n",
      "0.2755977193108502 27.481519887415747 13500\n",
      "0.2751735565253878 27.49981618998603 13600\n",
      "0.27524930724563823 27.487409678125683 13700\n",
      "0.2750944904855444 27.480399971016592 13800\n",
      "0.27528167476825 27.44579526652759 13900\n",
      "0.27550839988969245 27.374687522319835 14000\n",
      "0.2757989862453376 27.34806042124672 14100\n",
      "0.27648101854421564 27.272727272727273 14200\n",
      "0.2770721282010005 27.219285364659815 14300\n",
      "0.27731913225841026 27.189014651760296 14400\n",
      "0.27766254874877866 27.12150886145783 14500\n",
      "0.2776094620761335 27.105677693308678 14600\n",
      "0.27769507187588316 27.102510033331065 14700\n",
      "0.2780244938928509 27.069657455577325 14800\n",
      "0.2781809369200499 27.05100328836991 14900\n",
      "0.2787502633719793 26.972668488767415 15000\n",
      "0.2790958250726438 26.92020396000265 15100\n",
      "0.2789686872120072 26.913032037365962 15200\n",
      "0.27904680571154605 26.88379844454611 15300\n",
      "0.2792708172678237 26.852217388481268 15400\n",
      "0.27946687415791677 26.82781756015741 15500\n",
      "0.2795728757532723 26.78629575027242 15600\n",
      "0.27975086713477854 26.75549328068276 15700\n",
      "0.2799674689117927 26.674830706917284 15800\n",
      "0.2799604262299492 26.69718885604679 15900\n",
      "0.2797045428502435 26.717830135616524 16000\n",
      "0.2797975427175189 26.706291534687285 16100\n",
      "0.2793030949538302 26.769026603296094 16200\n",
      "0.27856807977526554 26.801423225568982 16300\n",
      "0.2788037639390744 26.752941893786964 16400\n",
      "0.2788259798845712 26.77080176958972 16500\n",
      "0.27905483399180203 26.726944159990364 16600\n",
      "0.2794552616815714 26.649661696904378 16700\n",
      "0.2796329236961788 26.60538063210523 16800\n",
      "0.279633378583124 26.608898881722975 16900\n",
      "0.2794809200372353 26.587024292688664 17000\n",
      "0.2795924256172512 26.58306531781767 17100\n",
      "0.2795849440611579 26.57769897099006 17200\n",
      "0.2795519064815391 26.582336281139817 17300\n",
      "0.279611229930072 26.55956554221022 17400\n",
      "0.27993984625579 26.523684360893665 17500\n",
      "0.2802227541212463 26.47747287085961 17600\n",
      "0.2804961926019991 26.446697926670808 17700\n",
      "0.28061554776611586 26.3703724509859 17800\n",
      "0.28093128147621366 26.318809005083516 17900\n",
      "0.28139130273612595 26.345925226376313 18000\n",
      "0.28171994345236284 26.306889122147947 18100\n",
      "0.2816362122281441 26.289709356628755 18200\n",
      "0.28185635599965886 26.291951259494017 18300\n",
      "0.2822249040788223 26.27569153850334 18400\n",
      "0.2820948414921651 26.302037727690394 18500\n",
      "0.2820122459000755 26.268050104833073 18600\n",
      "0.28197688951997174 26.301695096518902 18700\n",
      "0.28201192126920643 26.30578160736131 18800\n",
      "0.28197036060081804 26.362097243532087 18900\n",
      "0.2820976773106985 26.309141624125047 19000\n",
      "0.28260706649110306 26.28354536411706 19100\n",
      "0.2828333146611704 26.24175824175824 19200\n",
      "0.2826367561969093 26.229625408009948 19300\n",
      "0.28299529238081816 26.17540332972527 19400\n",
      "0.2827714907689732 26.164863340341523 19500\n",
      "0.2829938713133998 26.149737258303148 19600\n",
      "0.2830937193328128 26.12481599918786 19700\n",
      "0.28291675633432517 26.128730872178174 19800\n",
      "0.2829808607780692 26.121149690970302 19900\n",
      "0.2828617099994606 26.147442627868607 20000\n",
      "0.28346007679583224 26.09705984776877 20100\n",
      "0.2838115749057506 26.038710954903223 20200\n"
     ]
    },
    {
     "name": "stdout",
     "output_type": "stream",
     "text": [
      "0.2838286467553957 26.03561400916211 20300\n",
      "0.28367432075610594 26.037792265085045 20400\n",
      "0.2841419835844938 26.006048485439734 20500\n",
      "0.28445901446875094 25.97534100286394 20600\n",
      "0.2843427413420766 25.996328679773924 20700\n",
      "0.2842645174808241 25.979856737656842 20800\n",
      "0.2843098858484436 25.941773120903306 20900\n",
      "0.28456195375683313 25.937907718680062 21000\n",
      "0.28462727777904456 25.931330268707644 21100\n",
      "0.28461593381610745 25.921748974104997 21200\n",
      "0.2848083027379506 25.896155110088728 21300\n",
      "0.2848879222704633 25.88790243446568 21400\n",
      "0.2849832015086042 25.905864843495653 21500\n",
      "0.2849999715514281 25.900930512476275 21600\n",
      "0.2850722571372123 25.8918022210958 21700\n",
      "0.2851735038974799 25.895417641392598 21800\n",
      "0.28543201821856745 25.920231952878865 21900\n",
      "352.5842888355255\n",
      "21918\n",
      "['the', 'particulars', 'of', 'your', 'plans', 'i', 'neither'] ['or', 'seek', 'to', 'know'] know\n",
      "[(1, 'do'), (2, 'think'), (3, 'know'), (4, 'see'), (5, 'get'), (6, 'go'), (7, 'say'), (8, 'find'), (9, 'lose'), (10, 'knew'), (11, 'believe'), (12, 'come'), (13, 'tell'), (14, 'leave'), (15, 'understand'), (16, 'give'), (17, 'expect'), (18, 'take'), (19, 'have'), (20, 'keep')]\n",
      "\n",
      "['while', 'i', 'am', 'very', 'anxious', 'that', 'any', 'great', 'disaster', 'or', 'the', 'capture', 'of', 'our', 'men', 'in', 'great', 'numbers'] ['be', 'avoided', 'know', 'these', 'points', 'are', 'less', 'likely', 'to', 'escape', 'your', 'attention', 'than', 'they', 'would', 'be', 'mine'] shall\n",
      "[(1, 'could'), (2, 'would'), (3, 'should'), (4, 'might'), (5, 'must'), (6, 'will'), (7, 'may'), (8, 'shall'), (9, 'liable'), (10, 'prepared'), (11, 'can'), (12, 'means'), (13, 'ought'), (14, 'told'), (15, 'surprised'), (16, 'six'), (17, 'genii'), (18, 'terms'), (19, 'leave'), (20, 'designs')]\n",
      "\n",
      "['if', 'there', 'is', 'anything', 'wanting', 'which', 'is', 'within', 'my', 'power', 'to'] ['do', 'not', 'fail', 'to', 'let', 'me', 'know', 'it'] give\n",
      "[(1, 'do'), (2, 'go'), (3, 'know'), (4, 'see'), (5, 'come'), (6, 'believe'), (7, 'say'), (8, 'find'), (9, 'get'), (10, 'leave'), (11, 'take'), (12, 'make'), (13, 'give'), (14, 'keep'), (15, 'save'), (16, 'let'), (17, 'appear'), (18, 'expect'), (19, 'follow'), (20, 'remember')]\n",
      "\n",
      "['your', 'request', 'for', 'eighty', 'dollars', 'i', 'do'] ['think', 'it', 'best', 'to', 'comply', 'with', 'now'] not\n",
      "[(1, 'did'), (2, 'do'), (3, 'anything'), (4, 'want'), (5, 'not'), (6, 'never'), (7, 'well'), (8, 'does'), (9, 'here'), (10, 'rather'), (11, 'long'), (12, 'still'), (13, 'anyway'), (14, 'neither'), (15, 'nicely'), (16, 'actually'), (17, 'bly'), (18, 'indignantly'), (19, 'often'), (20, 'soon')]\n",
      "\n",
      "['at', 'the', 'various', 'times', 'when', 'i', 'have', 'helped', 'you', 'a', 'little', 'you', 'have', 'said', 'to', 'me', 'we', 'can'] ['along', 'very', 'well', 'now', 'but', 'in', 'very', 'short', 'time', 'find', 'you', 'in', 'the', 'same', 'difficulty', 'again'] get\n",
      "[(1, 'get'), (2, 'find'), (3, 'go'), (4, 'got'), (5, 'come'), (6, 'see'), (7, 'do'), (8, 'take'), (9, 'know'), (10, 'keep'), (11, 'say'), (12, 'run'), (13, 'make'), (14, 'leave'), (15, 'give'), (16, 'happen'), (17, 'be'), (18, 'remember'), (19, 'getting'), (20, 'settle')]\n",
      "\n"
     ]
    }
   ],
   "source": [
    "model_path='./sg_pret_emb300_ep10.pkl'\n",
    "out=run_eval(model_path,'out.txt',flag=True,hits=2000,context_win=2)\n",
    "print(len(out))\n",
    "pt(out)"
   ]
  },
  {
   "cell_type": "code",
   "execution_count": 55,
   "metadata": {},
   "outputs": [
    {
     "name": "stdout",
     "output_type": "stream",
     "text": [
      "21918\n"
     ]
    }
   ],
   "source": [
    "print(len(out))\n",
    "rerank(out,context_list=context_list,eval_words_list=eval_words_list,rr=1000)"
   ]
  },
  {
   "cell_type": "code",
   "execution_count": 199,
   "metadata": {
    "scrolled": true
   },
   "outputs": [
    {
     "name": "stdout",
     "output_type": "stream",
     "text": [
      "0.0 0.0 0\n",
      "0.2893944782262512 25.237623762376238 100\n",
      "0.2572403744650303 29.601990049751244 200\n",
      "0.2459740348229016 32.21926910299003 300\n",
      "0.23662566384313344 33.576059850374065 400\n",
      "0.22811217196984215 34.510978043912175 500\n",
      "0.233049795218528 33.15640599001664 600\n",
      "0.2326048361356494 31.80599144079886 700\n",
      "0.23189910073620068 32.45692883895131 800\n",
      "0.23686077502706493 31.7857935627081 900\n",
      "0.23600255860732838 31.929070929070928 1000\n",
      "0.2363320654030125 32.473206176203455 1100\n",
      "0.24141425782336312 31.825978351373855 1200\n",
      "0.2463044484498575 31.448885472713297 1300\n"
     ]
    },
    {
     "name": "stderr",
     "output_type": "stream",
     "text": [
      "/home/cse/btech/cs1150210/anaconda3/lib/python3.6/site-packages/gensim/models/word2vec.py:859: UserWarning: All the input context words are out-of-vocabulary for the current model.\n",
      "  warnings.warn(\"All the input context words are out-of-vocabulary for the current model.\")\n"
     ]
    },
    {
     "name": "stdout",
     "output_type": "stream",
     "text": [
      "0.2442056183290529 31.705924339757317 1400\n",
      "0.2468021207520262 31.614257161892073 1500\n",
      "0.2465860848253774 31.195502810743285 1600\n",
      "0.2483167239071588 30.951793062904173 1700\n",
      "0.24858488105880908 30.856191004997225 1800\n",
      "0.24914825817683459 31.048395581273013 1900\n",
      "CPU times: user 6min 7s, sys: 1min 21s, total: 7min 29s\n",
      "Wall time: 35.7 s\n",
      "['the', 'particulars', 'of', 'your', 'plans', 'i', 'neither'] ['or', 'seek', 'to', 'know'] know\n",
      "[(1, 'do'), (2, 'get'), (3, 'lose'), (4, 'go'), (5, 'see'), (6, 'come'), (7, 'think'), (8, 'know'), (9, 'find'), (10, 'appear'), (11, 'say'), (12, 'expect'), (13, 'take'), (14, 'give'), (15, 'leave'), (16, 'be'), (17, 'make'), (18, 'have'), (19, 'remove'), (20, 'knew')]\n",
      "['while', 'i', 'am', 'very', 'anxious', 'that', 'any', 'great', 'disaster', 'or', 'the', 'capture', 'of', 'our', 'men', 'in', 'great', 'numbers'] ['be', 'avoided', 'know', 'these', 'points', 'are', 'less', 'likely', 'to', 'escape', 'your', 'attention', 'than', 'they', 'would', 'be', 'mine'] shall\n",
      "[(1, 'would'), (2, 'could'), (3, 'might'), (4, 'should'), (5, 'must'), (6, 'will'), (7, 'may'), (8, 'shall'), (9, 'can'), (10, 'liable'), (11, 'means'), (12, 'told'), (13, 'genii'), (14, 'prepared'), (15, 'leave'), (16, 'ought'), (17, 'say'), (18, 'friendship'), (19, 'surprised'), (20, 'terms')]\n",
      "['if', 'there', 'is', 'anything', 'wanting', 'which', 'is', 'within', 'my', 'power', 'to'] ['do', 'not', 'fail', 'to', 'let', 'me', 'know', 'it'] give\n",
      "[(1, 'know'), (2, 'do'), (3, 'come'), (4, 'see'), (5, 'go'), (6, 'say'), (7, 'get'), (8, 'take'), (9, 'make'), (10, 'find'), (11, 'leave'), (12, 'keep'), (13, 'expect'), (14, 'give'), (15, 'follow'), (16, 'be'), (17, 'save'), (18, 'believe'), (19, 'happen'), (20, 'appear')]\n",
      "['your', 'request', 'for', 'eighty', 'dollars', 'i', 'do'] ['think', 'it', 'best', 'to', 'comply', 'with', 'now'] not\n",
      "[(1, 'anything'), (2, 'do'), (3, 'not'), (4, 'did'), (5, 'want'), (6, 'well'), (7, 'does'), (8, 'never'), (9, 'here'), (10, 'long'), (11, 'still'), (12, 'actually'), (13, 'neither'), (14, 'rather'), (15, 'indignantly'), (16, 'anyway'), (17, 'possibly'), (18, 'soon'), (19, 'often'), (20, 'earnestly')]\n",
      "['at', 'the', 'various', 'times', 'when', 'i', 'have', 'helped', 'you', 'a', 'little', 'you', 'have', 'said', 'to', 'me', 'we', 'can'] ['along', 'very', 'well', 'now', 'but', 'in', 'very', 'short', 'time', 'find', 'you', 'in', 'the', 'same', 'difficulty', 'again'] get\n",
      "[(1, 'get'), (2, 'go'), (3, 'find'), (4, 'see'), (5, 'got'), (6, 'come'), (7, 'know'), (8, 'do'), (9, 'keep'), (10, 'take'), (11, 'make'), (12, 'run'), (13, 'remember'), (14, 'give'), (15, 'leave'), (16, 'getting'), (17, 'say'), (18, 'expect'), (19, 'be'), (20, 'have')]\n"
     ]
    }
   ],
   "source": [
    "model_path='./sg_pret_emb300_ep10.pkl'\n",
    "out=run_eval(model_path,'out.txt',flag=False,hits=2000,context_win=2)\n",
    "pt(out)"
   ]
  },
  {
   "cell_type": "code",
   "execution_count": null,
   "metadata": {
    "collapsed": true
   },
   "outputs": [],
   "source": []
  },
  {
   "cell_type": "markdown",
   "metadata": {},
   "source": [
    "### Lemm"
   ]
  },
  {
   "cell_type": "code",
   "execution_count": 185,
   "metadata": {
    "scrolled": true
   },
   "outputs": [
    {
     "name": "stdout",
     "output_type": "stream",
     "text": [
      "0.0 0.0 0\n",
      "0.26391612477753434 27.128712871287128 100\n",
      "0.2376854486029815 30.199004975124378 200\n",
      "0.2217697262875314 31.259136212624586 300\n",
      "0.21616044145629432 31.25935162094763 400\n",
      "0.2070474066972291 32.187624750499005 500\n",
      "0.2120257312157065 31.111480865224625 600\n",
      "0.20839003355376629 30.03994293865906 700\n",
      "0.20771398907207983 31.18227215980025 800\n",
      "0.21287780316937027 30.200887902330745 900\n",
      "0.21344547699402405 30.285714285714285 1000\n",
      "0.21301072857546782 30.52043596730245 1100\n",
      "0.2181378429937186 29.98001665278934 1200\n",
      "0.2230251622775511 29.63182167563413 1300\n"
     ]
    },
    {
     "name": "stderr",
     "output_type": "stream",
     "text": [
      "/home/cse/btech/cs1150210/anaconda3/lib/python3.6/site-packages/gensim/models/word2vec.py:859: UserWarning: All the input context words are out-of-vocabulary for the current model.\n",
      "  warnings.warn(\"All the input context words are out-of-vocabulary for the current model.\")\n"
     ]
    },
    {
     "name": "stdout",
     "output_type": "stream",
     "text": [
      "0.22219956340404148 30.11277658815132 1400\n",
      "0.22650734193442826 30.109926715522985 1500\n",
      "0.2259671032940872 29.75202998126171 1600\n",
      "0.22744967892824336 29.59376837154615 1700\n",
      "0.22904959248349605 29.56857301499167 1800\n",
      "0.2278908114456888 29.56233561283535 1900\n",
      "CPU times: user 5min 10s, sys: 1min 10s, total: 6min 20s\n",
      "Wall time: 30.4 s\n",
      "['the', 'particular', 'of', 'your', 'plan', 'i', 'neither'] ['or', 'seek', 'to', 'know'] know\n",
      "[(1, 'do'), (2, 'get'), (3, 'lose'), (4, 'go'), (5, 'see'), (6, 'come'), (7, 'think'), (8, 'know'), (9, 'find'), (10, 'appear'), (11, 'say'), (12, 'expect'), (13, 'take'), (14, 'give'), (15, 'leave'), (16, 'be'), (17, 'make'), (18, 'have'), (19, 'remove'), (20, 'knew')]\n",
      "['while', 'i', 'am', 'very', 'anxious', 'that', 'any', 'great', 'disaster', 'or', 'the', 'capture', 'of', 'our', 'men', 'in', 'great', 'number'] ['be', 'avoided', 'know', 'these', 'point', 'are', 'le', 'likely', 'to', 'escape', 'your', 'attention', 'than', 'they', 'would', 'be', 'mine'] shall\n",
      "[(1, 'would'), (2, 'could'), (3, 'might'), (4, 'should'), (5, 'must'), (6, 'will'), (7, 'may'), (8, 'shall'), (9, 'can'), (10, 'liable'), (11, 'mean'), (12, 'told'), (13, 'genius'), (14, 'prepared'), (15, 'leave'), (16, 'ought'), (17, 'say'), (18, 'friendship'), (19, 'surprised'), (20, 'term')]\n",
      "['if', 'there', 'is', 'anything', 'wanting', 'which', 'is', 'within', 'my', 'power', 'to'] ['do', 'not', 'fail', 'to', 'let', 'me', 'know', 'it'] give\n",
      "[(1, 'know'), (2, 'do'), (3, 'come'), (4, 'see'), (5, 'go'), (6, 'say'), (7, 'get'), (8, 'take'), (9, 'make'), (10, 'find'), (11, 'leave'), (12, 'keep'), (13, 'expect'), (14, 'give'), (15, 'follow'), (16, 'be'), (17, 'save'), (18, 'believe'), (19, 'happen'), (20, 'appear')]\n",
      "['your', 'request', 'for', 'eighty', 'dollar', 'i', 'do'] ['think', 'it', 'best', 'to', 'comply', 'with', 'now'] not\n",
      "[(1, 'anything'), (2, 'do'), (3, 'not'), (4, 'did'), (5, 'want'), (6, 'well'), (7, 'doe'), (8, 'never'), (9, 'here'), (10, 'long'), (11, 'still'), (12, 'actually'), (13, 'neither'), (14, 'rather'), (15, 'indignantly'), (16, 'anyway'), (17, 'possibly'), (18, 'soon'), (19, 'often'), (20, 'earnestly')]\n",
      "['at', 'the', 'various', 'time', 'when', 'i', 'have', 'helped', 'you', 'a', 'little', 'you', 'have', 'said', 'to', 'me', 'we', 'can'] ['along', 'very', 'well', 'now', 'but', 'in', 'very', 'short', 'time', 'find', 'you', 'in', 'the', 'same', 'difficulty', 'again'] get\n",
      "[(1, 'get'), (2, 'go'), (3, 'find'), (4, 'see'), (5, 'got'), (6, 'come'), (7, 'know'), (8, 'do'), (9, 'keep'), (10, 'take'), (11, 'make'), (12, 'run'), (13, 'remember'), (14, 'give'), (15, 'leave'), (16, 'getting'), (17, 'say'), (18, 'expect'), (19, 'be'), (20, 'have')]\n"
     ]
    }
   ],
   "source": [
    "model_path='./lemm_sg_emb200_ep10.pkl'\n",
    "out=run_eval(model_path,'out.txt',flag=False,hits=2000,context_win=2)\n",
    "pt(out)"
   ]
  },
  {
   "cell_type": "code",
   "execution_count": 192,
   "metadata": {
    "scrolled": true
   },
   "outputs": [
    {
     "name": "stdout",
     "output_type": "stream",
     "text": [
      "0.0 0.0 0\n",
      "0.25688693696160253 23.07920792079208 100\n",
      "0.23925517310530106 28.29353233830846 200\n",
      "0.22493485082417478 30.837209302325583 300\n",
      "0.2162244229882309 32.71321695760599 400\n",
      "0.21029776755662932 32.82235528942116 500\n",
      "0.21343685875401025 31.948419301164726 600\n",
      "0.21098447743034146 31.40085592011412 700\n",
      "0.2086222644706398 32.07116104868914 800\n",
      "0.21457922495151247 31.519422863485016 900\n",
      "0.21478662947921515 31.3996003996004 1000\n",
      "0.21514307230787305 31.819255222524976 1100\n",
      "0.22012835862880784 30.896752706078267 1200\n",
      "0.22382954537927022 30.911606456571867 1300\n"
     ]
    },
    {
     "name": "stderr",
     "output_type": "stream",
     "text": [
      "/home/cse/btech/cs1150210/anaconda3/lib/python3.6/site-packages/gensim/models/word2vec.py:859: UserWarning: All the input context words are out-of-vocabulary for the current model.\n",
      "  warnings.warn(\"All the input context words are out-of-vocabulary for the current model.\")\n"
     ]
    },
    {
     "name": "stdout",
     "output_type": "stream",
     "text": [
      "0.22331252935284046 31.37330478229836 1400\n",
      "0.22626013597101433 31.5236508994004 1500\n",
      "0.2254713290461498 31.245471580262336 1600\n",
      "0.22660964028781114 30.95767195767196 1700\n",
      "0.22705867404726635 30.89339255968906 1800\n",
      "0.22597835221040954 30.711730668069436 1900\n",
      "CPU times: user 5min 12s, sys: 1min 7s, total: 6min 19s\n",
      "Wall time: 29.9 s\n",
      "['the', 'particular', 'of', 'your', 'plan', 'i', 'neither'] ['or', 'seek', 'to', 'know'] know\n",
      "[(1, 'do'), (2, 'get'), (3, 'lose'), (4, 'go'), (5, 'see'), (6, 'come'), (7, 'think'), (8, 'know'), (9, 'find'), (10, 'appear'), (11, 'say'), (12, 'expect'), (13, 'take'), (14, 'give'), (15, 'leave'), (16, 'be'), (17, 'make'), (18, 'have'), (19, 'remove'), (20, 'knew')]\n",
      "['while', 'i', 'am', 'very', 'anxious', 'that', 'any', 'great', 'disaster', 'or', 'the', 'capture', 'of', 'our', 'men', 'in', 'great', 'number'] ['be', 'avoided', 'know', 'these', 'point', 'are', 'le', 'likely', 'to', 'escape', 'your', 'attention', 'than', 'they', 'would', 'be', 'mine'] shall\n",
      "[(1, 'would'), (2, 'could'), (3, 'might'), (4, 'should'), (5, 'must'), (6, 'will'), (7, 'may'), (8, 'shall'), (9, 'can'), (10, 'liable'), (11, 'mean'), (12, 'told'), (13, 'genius'), (14, 'prepared'), (15, 'leave'), (16, 'ought'), (17, 'say'), (18, 'friendship'), (19, 'surprised'), (20, 'term')]\n",
      "['if', 'there', 'is', 'anything', 'wanting', 'which', 'is', 'within', 'my', 'power', 'to'] ['do', 'not', 'fail', 'to', 'let', 'me', 'know', 'it'] give\n",
      "[(1, 'know'), (2, 'do'), (3, 'come'), (4, 'see'), (5, 'go'), (6, 'say'), (7, 'get'), (8, 'take'), (9, 'make'), (10, 'find'), (11, 'leave'), (12, 'keep'), (13, 'expect'), (14, 'give'), (15, 'follow'), (16, 'be'), (17, 'save'), (18, 'believe'), (19, 'happen'), (20, 'appear')]\n",
      "['your', 'request', 'for', 'eighty', 'dollar', 'i', 'do'] ['think', 'it', 'best', 'to', 'comply', 'with', 'now'] not\n",
      "[(1, 'anything'), (2, 'do'), (3, 'not'), (4, 'did'), (5, 'want'), (6, 'well'), (7, 'doe'), (8, 'never'), (9, 'here'), (10, 'long'), (11, 'still'), (12, 'actually'), (13, 'neither'), (14, 'rather'), (15, 'indignantly'), (16, 'anyway'), (17, 'possibly'), (18, 'soon'), (19, 'often'), (20, 'earnestly')]\n",
      "['at', 'the', 'various', 'time', 'when', 'i', 'have', 'helped', 'you', 'a', 'little', 'you', 'have', 'said', 'to', 'me', 'we', 'can'] ['along', 'very', 'well', 'now', 'but', 'in', 'very', 'short', 'time', 'find', 'you', 'in', 'the', 'same', 'difficulty', 'again'] get\n",
      "[(1, 'get'), (2, 'go'), (3, 'find'), (4, 'see'), (5, 'got'), (6, 'come'), (7, 'know'), (8, 'do'), (9, 'keep'), (10, 'take'), (11, 'make'), (12, 'run'), (13, 'remember'), (14, 'give'), (15, 'leave'), (16, 'getting'), (17, 'say'), (18, 'expect'), (19, 'be'), (20, 'have')]\n"
     ]
    }
   ],
   "source": [
    "model_path='./lemm_sg_emb300_ep10.pkl'\n",
    "out=run_eval(model_path,'out.txt',flag=False,hits=2000,context_win=2)\n",
    "pt(out)"
   ]
  },
  {
   "cell_type": "code",
   "execution_count": 193,
   "metadata": {
    "scrolled": true
   },
   "outputs": [
    {
     "name": "stdout",
     "output_type": "stream",
     "text": [
      "0.0 0.0 0\n",
      "0.2676649835511454 24.752475247524753 100\n",
      "0.24828999576880043 26.154228855721392 200\n",
      "0.2303409385191886 28.205980066445182 300\n",
      "0.22314654114821855 28.453865336658353 400\n",
      "0.21036206838861563 28.201596806387226 500\n",
      "0.213716530519465 27.183028286189685 600\n",
      "0.21143448900197412 26.024251069900142 700\n",
      "0.21092401311474912 26.436953807740323 800\n",
      "0.21800731786213765 25.964483906770255 900\n",
      "0.22038235373743267 25.829170829170828 1000\n",
      "0.21948239261414645 26.26975476839237 1100\n",
      "0.22326402501897627 26.074937552039966 1200\n",
      "0.2276445056252417 25.983858570330515 1300\n"
     ]
    },
    {
     "name": "stderr",
     "output_type": "stream",
     "text": [
      "/home/cse/btech/cs1150210/anaconda3/lib/python3.6/site-packages/gensim/models/word2vec.py:859: UserWarning: All the input context words are out-of-vocabulary for the current model.\n",
      "  warnings.warn(\"All the input context words are out-of-vocabulary for the current model.\")\n"
     ]
    },
    {
     "name": "stdout",
     "output_type": "stream",
     "text": [
      "0.22830395610309423 26.422555317630263 1400\n",
      "0.2307463904850185 26.421718854097268 1500\n",
      "0.23027949509473006 26.14303560274828 1600\n",
      "0.23200635779432546 25.890064667842445 1700\n",
      "0.23226842778203236 25.932259855635756 1800\n",
      "0.23162991790499343 26.042083114150447 1900\n",
      "CPU times: user 5min 46s, sys: 1min 17s, total: 7min 3s\n",
      "Wall time: 33.7 s\n",
      "['the', 'particular', 'of', 'your', 'plan', 'i', 'neither'] ['or', 'seek', 'to', 'know'] know\n",
      "[(1, 'do'), (2, 'get'), (3, 'lose'), (4, 'go'), (5, 'see'), (6, 'come'), (7, 'think'), (8, 'know'), (9, 'find'), (10, 'appear'), (11, 'say'), (12, 'expect'), (13, 'take'), (14, 'give'), (15, 'leave'), (16, 'be'), (17, 'make'), (18, 'have'), (19, 'remove'), (20, 'knew')]\n",
      "['while', 'i', 'am', 'very', 'anxious', 'that', 'any', 'great', 'disaster', 'or', 'the', 'capture', 'of', 'our', 'men', 'in', 'great', 'number'] ['be', 'avoided', 'know', 'these', 'point', 'are', 'le', 'likely', 'to', 'escape', 'your', 'attention', 'than', 'they', 'would', 'be', 'mine'] shall\n",
      "[(1, 'would'), (2, 'could'), (3, 'might'), (4, 'should'), (5, 'must'), (6, 'will'), (7, 'may'), (8, 'shall'), (9, 'can'), (10, 'liable'), (11, 'mean'), (12, 'told'), (13, 'genius'), (14, 'prepared'), (15, 'leave'), (16, 'ought'), (17, 'say'), (18, 'friendship'), (19, 'surprised'), (20, 'term')]\n",
      "['if', 'there', 'is', 'anything', 'wanting', 'which', 'is', 'within', 'my', 'power', 'to'] ['do', 'not', 'fail', 'to', 'let', 'me', 'know', 'it'] give\n",
      "[(1, 'know'), (2, 'do'), (3, 'come'), (4, 'see'), (5, 'go'), (6, 'say'), (7, 'get'), (8, 'take'), (9, 'make'), (10, 'find'), (11, 'leave'), (12, 'keep'), (13, 'expect'), (14, 'give'), (15, 'follow'), (16, 'be'), (17, 'save'), (18, 'believe'), (19, 'happen'), (20, 'appear')]\n",
      "['your', 'request', 'for', 'eighty', 'dollar', 'i', 'do'] ['think', 'it', 'best', 'to', 'comply', 'with', 'now'] not\n",
      "[(1, 'anything'), (2, 'do'), (3, 'not'), (4, 'did'), (5, 'want'), (6, 'well'), (7, 'doe'), (8, 'never'), (9, 'here'), (10, 'long'), (11, 'still'), (12, 'actually'), (13, 'neither'), (14, 'rather'), (15, 'indignantly'), (16, 'anyway'), (17, 'possibly'), (18, 'soon'), (19, 'often'), (20, 'earnestly')]\n",
      "['at', 'the', 'various', 'time', 'when', 'i', 'have', 'helped', 'you', 'a', 'little', 'you', 'have', 'said', 'to', 'me', 'we', 'can'] ['along', 'very', 'well', 'now', 'but', 'in', 'very', 'short', 'time', 'find', 'you', 'in', 'the', 'same', 'difficulty', 'again'] get\n",
      "[(1, 'get'), (2, 'go'), (3, 'find'), (4, 'see'), (5, 'got'), (6, 'come'), (7, 'know'), (8, 'do'), (9, 'keep'), (10, 'take'), (11, 'make'), (12, 'run'), (13, 'remember'), (14, 'give'), (15, 'leave'), (16, 'getting'), (17, 'say'), (18, 'expect'), (19, 'be'), (20, 'have')]\n"
     ]
    }
   ],
   "source": [
    "model_path='./lemm_pre_sg_emb300_ep10.pkl'\n",
    "out=run_eval(model_path,'out.txt',flag=False,hits=2000,context_win=2)\n",
    "pt(out)"
   ]
  },
  {
   "cell_type": "code",
   "execution_count": null,
   "metadata": {
    "collapsed": true
   },
   "outputs": [],
   "source": []
  },
  {
   "cell_type": "code",
   "execution_count": null,
   "metadata": {
    "collapsed": true
   },
   "outputs": [],
   "source": []
  },
  {
   "cell_type": "code",
   "execution_count": null,
   "metadata": {
    "collapsed": true
   },
   "outputs": [],
   "source": []
  },
  {
   "cell_type": "code",
   "execution_count": 14,
   "metadata": {
    "collapsed": true
   },
   "outputs": [],
   "source": [
    "def aa(a):\n",
    "    return 2*a"
   ]
  },
  {
   "cell_type": "code",
   "execution_count": 15,
   "metadata": {},
   "outputs": [
    {
     "name": "stdout",
     "output_type": "stream",
     "text": [
      "CPU times: user 0 ns, sys: 0 ns, total: 0 ns\n",
      "Wall time: 16.2 µs\n",
      "10\n"
     ]
    }
   ],
   "source": [
    "%time a=aa(5)\n",
    "print(a)"
   ]
  },
  {
   "cell_type": "code",
   "execution_count": null,
   "metadata": {
    "collapsed": true
   },
   "outputs": [],
   "source": []
  },
  {
   "cell_type": "code",
   "execution_count": null,
   "metadata": {
    "collapsed": true
   },
   "outputs": [],
   "source": []
  },
  {
   "cell_type": "code",
   "execution_count": 213,
   "metadata": {
    "collapsed": true
   },
   "outputs": [],
   "source": [
    "def pt(t):\n",
    "    for i in range(5):\n",
    "        print(context_list[2*i],context_list[2*i+1],y[i])\n",
    "        temp=list(zip(t[i],eval_words_list[i]))\n",
    "        print(sorted(temp)[0:20])\n",
    "        print()"
   ]
  },
  {
   "cell_type": "code",
   "execution_count": null,
   "metadata": {
    "collapsed": true
   },
   "outputs": [],
   "source": []
  }
 ],
 "metadata": {
  "kernelspec": {
   "display_name": "Python 3",
   "language": "python",
   "name": "python3"
  },
  "language_info": {
   "codemirror_mode": {
    "name": "ipython",
    "version": 3
   },
   "file_extension": ".py",
   "mimetype": "text/x-python",
   "name": "python",
   "nbconvert_exporter": "python",
   "pygments_lexer": "ipython3",
   "version": "3.6.8"
  }
 },
 "nbformat": 4,
 "nbformat_minor": 2
}
