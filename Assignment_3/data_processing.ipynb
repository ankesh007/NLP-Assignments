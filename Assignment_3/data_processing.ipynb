{
 "cells": [
  {
   "cell_type": "code",
   "execution_count": 38,
   "metadata": {},
   "outputs": [],
   "source": [
    "import numpy as np\n",
    "import random\n",
    "import os"
   ]
  },
  {
   "cell_type": "code",
   "execution_count": 39,
   "metadata": {},
   "outputs": [],
   "source": [
    "def read_data(data_path,label=True):\n",
    "    x=[]\n",
    "    y=[]\n",
    "    with open(data_path,'r') as f:\n",
    "        tokens=[]\n",
    "        labels=[]\n",
    "        count=0\n",
    "        for token in f:\n",
    "            count+=1\n",
    "            if(count%10000==0):\n",
    "                print(count)\n",
    "            token=token.strip().split(\" \")\n",
    "            if(len(token)==1 and token[0]==''):\n",
    "                x.append(list(tokens))\n",
    "                y.append(list(labels))\n",
    "                tokens=[]\n",
    "                labels=[]\n",
    "                \n",
    "            else:\n",
    "                tokens.append(token[0])\n",
    "                labels.append(token[1])\n",
    "    return x,y"
   ]
  },
  {
   "cell_type": "code",
   "execution_count": 40,
   "metadata": {},
   "outputs": [
    {
     "name": "stdout",
     "output_type": "stream",
     "text": [
      "10000\n",
      "20000\n",
      "30000\n",
      "40000\n",
      "50000\n",
      "60000\n",
      "70000\n",
      "80000\n",
      "90000\n"
     ]
    }
   ],
   "source": [
    "data_path='data/Train.txt'\n",
    "x,y=read_data(data_path)"
   ]
  },
  {
   "cell_type": "code",
   "execution_count": 41,
   "metadata": {},
   "outputs": [
    {
     "name": "stdout",
     "output_type": "stream",
     "text": [
      "[['amarpali', '#EdenPark', '1625', 'ft', '4th', 'felor', '3', 'bhk', '#Sector50', 'rent', '25000', 'contact', '9911988332'], ['Bhatia', 'prop', '.', '#ParasTierea', 'Avl', '.', '825', 'sq', '.', 'ft', '.', 'GF', 'for', 'sale', '@5000', '/-', '#ParasTierea', '-137'], ['Available', '//', 'Sell', '//', 'Residential', 'ats', 'village'], ['+919999381560', ':', 'READY', 'TO', 'MOVE', 'IN', 'PROPERTY', '(', 'fresh', 'deal', '):', '#GardeniaGolfCity', ',', '#Sector75', ',', 'NOIDA', ',', '2BHK', ':', '950', 'SQFT', ',', 'BSP', ':', '4400/-', '(', 'ALL', 'INCLUSIVE', ')', '.', 'DIRECT', 'DEAL', 'CONTACT', ':', '09999381560'], ['want', 'to', 'sell', '#Studio', 'apartment', 'in', 'Design', 'Arch', 'society', 'in', 'Gr', '.', 'noida', '550', 'sqft', 'with', 'wood', 'work', 'done', 'and', 'partition', 'also', 'just', 'rs', '.', '17', 'lac', 'with', 'chimney', 'and', 'hub', 'also', '.', 'best', 'property', 'in', 'this', 'rate', '.']] [['L', 'L', 'LA', 'LA', 'A', 'A', 'A', 'A', 'L', 'O', 'O', 'O', 'T'], ['N', 'N', 'N', 'L', 'L', 'L', 'LA', 'LA', 'LA', 'LA', 'LA', 'A', 'O', 'O', 'O', 'O', 'L', 'L'], ['O', 'O', 'O', 'O', 'O', 'O', 'O'], ['T', 'O', 'O', 'O', 'O', 'O', 'O', 'O', 'O', 'O', 'O', 'L', 'L', 'L', 'L', 'L', 'O', 'A', 'O', 'LA', 'LA', 'LA', 'O', 'O', 'O', 'O', 'O', 'O', 'O', 'O', 'O', 'O', 'O', 'O', 'T'], ['O', 'O', 'O', 'A', 'A', 'O', 'L', 'L', 'L', 'O', 'L', 'L', 'L', 'LA', 'LA', 'O', 'O', 'O', 'O', 'O', 'O', 'O', 'O', 'P', 'P', 'P', 'P', 'O', 'O', 'O', 'O', 'O', 'O', 'O', 'O', 'O', 'O', 'O', 'O']]\n"
     ]
    }
   ],
   "source": [
    "print(x[0:5],y[0:5])"
   ]
  },
  {
   "cell_type": "code",
   "execution_count": 42,
   "metadata": {},
   "outputs": [],
   "source": [
    "c = list(zip(x, y))\n",
    "random.shuffle(c)\n",
    "x, y = zip(*c)"
   ]
  },
  {
   "cell_type": "code",
   "execution_count": 43,
   "metadata": {},
   "outputs": [
    {
     "data": {
      "text/plain": [
       "(4100, 4100)"
      ]
     },
     "execution_count": 43,
     "metadata": {},
     "output_type": "execute_result"
    }
   ],
   "source": [
    "len(x),len(y)"
   ]
  },
  {
   "cell_type": "code",
   "execution_count": 47,
   "metadata": {},
   "outputs": [],
   "source": [
    "def write_file(x,y,file):\n",
    "    with open(file,'w') as f:\n",
    "        for i in range(len(x)):\n",
    "            for j in range(len(x[i])):\n",
    "                print(str(x[i][j])+\"___\"+str(y[i][j]),file=f,end=' ')\n",
    "            print(file=f)"
   ]
  },
  {
   "cell_type": "code",
   "execution_count": 48,
   "metadata": {},
   "outputs": [],
   "source": [
    "train=int(0.75*len(x))\n",
    "val=int(0.1*len(x))\n",
    "test=len(x)-train-val"
   ]
  },
  {
   "cell_type": "code",
   "execution_count": 49,
   "metadata": {},
   "outputs": [],
   "source": [
    "x_train,y_train=zip(*c[0:train])\n",
    "x_val,y_val=zip(*c[train:train+val])\n",
    "x_test,y_test=zip(*c[train+val:])"
   ]
  },
  {
   "cell_type": "code",
   "execution_count": 50,
   "metadata": {},
   "outputs": [
    {
     "name": "stdout",
     "output_type": "stream",
     "text": [
      "3075 410 615\n"
     ]
    }
   ],
   "source": [
    "print(len(x_train),len(x_val),len(x_test))"
   ]
  },
  {
   "cell_type": "code",
   "execution_count": 51,
   "metadata": {},
   "outputs": [],
   "source": [
    "path=\"data/lstm_data/\"\n",
    "os.system(\"mkdir -p \"+path)\n",
    "write_file(x_train,y_train,path+'train.txt')\n",
    "write_file(x_val,y_val,path+'val.txt')\n",
    "write_file(x_test,y_test,path+'test.txt')"
   ]
  },
  {
   "cell_type": "code",
   "execution_count": null,
   "metadata": {},
   "outputs": [],
   "source": []
  }
 ],
 "metadata": {
  "kernelspec": {
   "display_name": "Python (microsoft_AI)",
   "language": "python",
   "name": "microsoft_ai"
  },
  "language_info": {
   "codemirror_mode": {
    "name": "ipython",
    "version": 3
   },
   "file_extension": ".py",
   "mimetype": "text/x-python",
   "name": "python",
   "nbconvert_exporter": "python",
   "pygments_lexer": "ipython3",
   "version": "3.6.7"
  }
 },
 "nbformat": 4,
 "nbformat_minor": 2
}
